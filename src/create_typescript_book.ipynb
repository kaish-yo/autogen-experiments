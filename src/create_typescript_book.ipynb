{
 "cells": [
  {
   "cell_type": "markdown",
   "metadata": {},
   "source": [
    "# Setup"
   ]
  },
  {
   "cell_type": "code",
   "execution_count": 1,
   "metadata": {},
   "outputs": [
    {
     "data": {
      "text/plain": [
       "True"
      ]
     },
     "execution_count": 1,
     "metadata": {},
     "output_type": "execute_result"
    }
   ],
   "source": [
    "# load the .env as environment variables\n",
    "from dotenv import load_dotenv\n",
    "\n",
    "load_dotenv()"
   ]
  },
  {
   "cell_type": "code",
   "execution_count": 2,
   "metadata": {},
   "outputs": [],
   "source": [
    "import asyncio\n",
    "import os\n",
    "from autogen_agentchat.agents import AssistantAgent\n",
    "from autogen_agentchat.teams import RoundRobinGroupChat, SelectorGroupChat\n",
    "from autogen_agentchat.conditions import TextMentionTermination, MaxMessageTermination\n",
    "from autogen_ext.models.openai import OpenAIChatCompletionClient\n",
    "from autogen_agentchat.messages import BaseMessage\n",
    "import pdfkit\n",
    "import markdown\n",
    "from PyPDF2 import PdfMerger\n",
    "from tqdm.notebook import tqdm\n",
    "import nest_asyncio"
   ]
  },
  {
   "cell_type": "code",
   "execution_count": null,
   "metadata": {},
   "outputs": [
    {
     "ename": "TypeError",
     "evalue": "RoundRobinGroupChat.__init__() got an unexpected keyword argument 'model_client'",
     "output_type": "error",
     "traceback": [
      "\u001b[0;31m---------------------------------------------------------------------------\u001b[0m",
      "\u001b[0;31mTypeError\u001b[0m                                 Traceback (most recent call last)",
      "Cell \u001b[0;32mIn[3], line 71\u001b[0m\n\u001b[1;32m     50\u001b[0m selector_prompt \u001b[38;5;241m=\u001b[39m \u001b[38;5;124m\"\"\"\u001b[39m\u001b[38;5;124mSelect an agent to perform task.\u001b[39m\n\u001b[1;32m     51\u001b[0m \n\u001b[1;32m     52\u001b[0m \u001b[38;5;132;01m{roles}\u001b[39;00m\n\u001b[0;32m   (...)\u001b[0m\n\u001b[1;32m     59\u001b[0m \u001b[38;5;124mOnly select one agent.\u001b[39m\n\u001b[1;32m     60\u001b[0m \u001b[38;5;124m\"\"\"\u001b[39m\n\u001b[1;32m     62\u001b[0m \u001b[38;5;66;03m# エージェントチームの作成\u001b[39;00m\n\u001b[1;32m     63\u001b[0m \u001b[38;5;66;03m# agent_team = SelectorGroupChat(\u001b[39;00m\n\u001b[1;32m     64\u001b[0m \u001b[38;5;66;03m#     [writer_agent, reviewer_agent],\u001b[39;00m\n\u001b[0;32m   (...)\u001b[0m\n\u001b[1;32m     68\u001b[0m \u001b[38;5;66;03m#     # allow_repeated_speaker=True,  # Allow an agent to speak multiple turns in a row.\u001b[39;00m\n\u001b[1;32m     69\u001b[0m \u001b[38;5;66;03m# )\u001b[39;00m\n\u001b[0;32m---> 71\u001b[0m agent_team \u001b[38;5;241m=\u001b[39m \u001b[43mRoundRobinGroupChat\u001b[49m\u001b[43m(\u001b[49m\n\u001b[1;32m     72\u001b[0m \u001b[43m    \u001b[49m\u001b[43m[\u001b[49m\u001b[43mwriter_agent\u001b[49m\u001b[43m,\u001b[49m\u001b[43m \u001b[49m\u001b[43mreviewer_agent\u001b[49m\u001b[43m]\u001b[49m\u001b[43m,\u001b[49m\n\u001b[1;32m     73\u001b[0m \u001b[43m    \u001b[49m\u001b[43mmodel_client\u001b[49m\u001b[38;5;241;43m=\u001b[39;49m\u001b[43mmodel_client\u001b[49m\u001b[43m,\u001b[49m\n\u001b[1;32m     74\u001b[0m \u001b[43m    \u001b[49m\u001b[43mtermination_condition\u001b[49m\u001b[38;5;241;43m=\u001b[39;49m\u001b[43mtermination_condition\u001b[49m\u001b[43m,\u001b[49m\n\u001b[1;32m     75\u001b[0m \u001b[43m)\u001b[49m\n\u001b[1;32m     77\u001b[0m \u001b[38;5;66;03m# 各章のタイトルリスト\u001b[39;00m\n\u001b[1;32m     78\u001b[0m chapter_titles \u001b[38;5;241m=\u001b[39m [\n\u001b[1;32m     79\u001b[0m     \u001b[38;5;124m\"\u001b[39m\u001b[38;5;124m01.TypeScriptの基礎\u001b[39m\u001b[38;5;124m\"\u001b[39m,\n\u001b[1;32m     80\u001b[0m     \u001b[38;5;124m\"\u001b[39m\u001b[38;5;124m02.TypeScriptの型システム\u001b[39m\u001b[38;5;124m\"\u001b[39m,\n\u001b[0;32m   (...)\u001b[0m\n\u001b[1;32m     95\u001b[0m     \u001b[38;5;124m\"\u001b[39m\u001b[38;5;124m17.型安全な開発フロー\u001b[39m\u001b[38;5;124m\"\u001b[39m\n\u001b[1;32m     96\u001b[0m ]\n",
      "\u001b[0;31mTypeError\u001b[0m: RoundRobinGroupChat.__init__() got an unexpected keyword argument 'model_client'"
     ]
    }
   ],
   "source": [
    "nest_asyncio.apply()\n",
    "\n",
    "# モデルクライアントの作成\n",
    "model_client = OpenAIChatCompletionClient(\n",
    "    model=\"gpt-4o-mini\",\n",
    ")\n",
    "\n",
    "point_prompts = (\n",
    "        \"- 常にTypeScriptの概念や実装をPythonで相当するものと対比して説明しているか。特に異なる点について必ず言及しているか\\n\"\n",
    "        \"- Pythonの形ヒントやdataclass, Pydanticなどの型ヒントライブラリとTypeScriptの型の比較を行っているか。\\n\"\n",
    "        \"- 用語の違いや思想の違いなど含めて、Well-definedに記述されているか。\\n\"\n",
    "        \"-　抽象的な説明の場合でも、実践をイメージしやすいように常にコードとセットで説明しているか。可能な限り、TypeScriptとPython両方のコードを示す。\\n\"\n",
    "        \"-　内容は網羅的か。\\n\"\n",
    "        \"- 前のレビュー内容がある場合は、それが適切に反映されているか。\"\n",
    "    )\n",
    "# 各エージェントの作成\n",
    "writer_agent = AssistantAgent(\n",
    "    name=\"WriterAgent\",\n",
    "    model_client=model_client,\n",
    "    system_message=\"あなたはWriterAgentです。\\n\"\n",
    "    \"あなたはPythonとTypeScriptの両方に精通したソフトウェアエンジニアであり、「Python上級者のためのTypeScript」という本を執筆しています。\\n\"\n",
    "    \"執筆する際には以下の点に注意してください。\\n\"\n",
    "    f\"{point_prompts}\\n\"\n",
    "    \"- 前のレビュー内容がある場合は、それが適切に反映されているか。\"\n",
    "    \n",
    ")\n",
    "\n",
    "reviewer_agent = AssistantAgent(\n",
    "    name=\"ReviewerAgent\",\n",
    "    model_client=model_client,\n",
    "    system_message=\"あなたはReviewerAgentです。\\n\"\n",
    "    \"あなたはわかりやすく網羅的な技術書を執筆するエキスパートです。WriterAgentが作成したドラフトをレビューし、技術的な正確性と深さを確認の上、フィードバックを作成してください。\\n\"\n",
    "    \"また、そのクオリティが十分である場合は、APPROVEと返してください。\\n\"\n",
    "    \"もし、修正が必要な場合は、WriterAgentにフィードバックを送り、修正を依頼してください。\"\n",
    "    \"レビューにあたっては以下の観点に注意してください。\\n\"\n",
    "    f\"{point_prompts}\\n\"\n",
    "    \"など。\"\n",
    "    \n",
    ")\n",
    "\n",
    "# editor_agent = AssistantAgent(\n",
    "#     name=\"EditorAgent\",\n",
    "#     model_client=model_client,\n",
    "#     system_message=\"あなたはEditorAgentです。レビュー済みのドラフトを編集し、文体や用語の統一を行ってください。\"\n",
    "# )\n",
    "\n",
    "# 終了条件の設定\n",
    "termination_condition = TextMentionTermination(\"APPROVE\") # | MaxMessageTermination(max_messages=10)\n",
    "\n",
    "selector_prompt = \"\"\"Select an agent to perform task.\n",
    "\n",
    "{roles}\n",
    "\n",
    "Current conversation context:\n",
    "{history}\n",
    "\n",
    "Read the above conversation, then select an agent from {participants} to perform the next task.\n",
    "Make sure the planner agent has assigned tasks before other agents start working.\n",
    "Only select one agent.\n",
    "\"\"\"\n",
    "\n",
    "# エージェントチームの作成\n",
    "# agent_team = SelectorGroupChat(\n",
    "#     [writer_agent, reviewer_agent],\n",
    "#     model_client=model_client,\n",
    "#     termination_condition=termination_condition,\n",
    "#     selector_prompt=selector_prompt,\n",
    "#     # allow_repeated_speaker=True,  # Allow an agent to speak multiple turns in a row.\n",
    "# )\n",
    "\n",
    "agent_team = RoundRobinGroupChat(\n",
    "    [writer_agent, reviewer_agent],\n",
    "    termination_condition=termination_condition,\n",
    ")\n",
    "\n",
    "# 各章のタイトルリスト\n",
    "chapter_titles = [\n",
    "    \"01.TypeScriptの基礎\",\n",
    "    \"02.TypeScriptの型システム\",\n",
    "    \"03.インターフェースと型エイリアス\",\n",
    "    \"04.型推論とユーティリティ型\",\n",
    "    \"05.関数型プログラミングとTypeScript\",\n",
    "    \"06.ジェネリクスと高度な型\",\n",
    "    \"07.TypeScriptにおけるクラスとオブジェクト指向\",\n",
    "    \"08.TypeScriptとPythonの設計思想の違い\",\n",
    "    \"09.Pythonの型ヒントとTypeScriptの型の比較\",\n",
    "    \"10.TypeScriptでの非同期処理\",\n",
    "    \"11.型安全なAPI設計\",\n",
    "    \"12.TypeScriptでのCLIツール開発\",\n",
    "    \"13.フロントエンドとバックエンドの開発\",\n",
    "    \"14.型安全なデータ処理\",\n",
    "    \"15.TypeScriptの型システムの内部構造\",\n",
    "    \"16.TypeScriptの型チェックとコンパイラの仕組み\",\n",
    "    \"17.型安全な開発フロー\"\n",
    "]\n",
    "\n",
    "chapter_titles_combined = \"\\n\".join(chapter_titles)\n",
    "\n",
    "# 出力ディレクトリの作成\n",
    "output_dir = \"output\"\n",
    "os.makedirs(output_dir, exist_ok=True)\n",
    "\n",
    "async def main():\n",
    "    pdf_files = []\n",
    "    for idx, title in tqdm(enumerate(chapter_titles, start=1), total=len(chapter_titles)):\n",
    "        print(f\"=== {title} ===\")\n",
    "        task_description = (\n",
    "            f\"{title}に関する章の内容を作成してください。\\n\"\n",
    "            \"注意:全体の構成は以下のとおりです。以下の構成で一つずつ該当の章の内容を作成していることを意識してください。\\n\"\n",
    "            \"なお、全体で100ページ程度の書籍にする必要があります。\\n\"\n",
    "            f\"{chapter_titles_combined}\"\n",
    "        )\n",
    "        stream = agent_team.run_stream(task=task_description)\n",
    "        chapter_content = \"\"\n",
    "        async for message in stream:\n",
    "            if isinstance(message, BaseMessage):\n",
    "                print(f\"{message.source}: {message.content}\")\n",
    "            else:\n",
    "                result = message.messages[-2]\n",
    "                chapter_content += f\"{result.content}\\n\\n\"\n",
    "        \n",
    "       # Markdownファイルとして保存\n",
    "        md_filename = os.path.join(output_dir, f\"{title}.md\")\n",
    "        with open(md_filename, \"w\", encoding=\"utf-8\") as md_file:\n",
    "            md_file.write(f\"# {title}\\n\\n\")\n",
    "            md_file.write(chapter_content)\n",
    "\n",
    "\n",
    "if __name__ == \"__main__\":\n",
    "    asyncio.run(main())"
   ]
  },
  {
   "cell_type": "code",
   "execution_count": null,
   "metadata": {},
   "outputs": [
    {
     "ename": "NameError",
     "evalue": "name 'pdf_files' is not defined",
     "output_type": "error",
     "traceback": [
      "\u001b[0;31m---------------------------------------------------------------------------\u001b[0m",
      "\u001b[0;31mNameError\u001b[0m                                 Traceback (most recent call last)",
      "Cell \u001b[0;32mIn[4], line 4\u001b[0m\n\u001b[1;32m      2\u001b[0m merged_pdf_path \u001b[38;5;241m=\u001b[39m os\u001b[38;5;241m.\u001b[39mpath\u001b[38;5;241m.\u001b[39mjoin(output_dir, \u001b[38;5;124m\"\u001b[39m\u001b[38;5;124mComplete_Book.pdf\u001b[39m\u001b[38;5;124m\"\u001b[39m)\n\u001b[1;32m      3\u001b[0m merger \u001b[38;5;241m=\u001b[39m PdfMerger()\n\u001b[0;32m----> 4\u001b[0m \u001b[38;5;28;01mfor\u001b[39;00m pdf_file \u001b[38;5;129;01min\u001b[39;00m \u001b[43mpdf_files\u001b[49m:\n\u001b[1;32m      5\u001b[0m     merger\u001b[38;5;241m.\u001b[39mappend(pdf_file)\n\u001b[1;32m      6\u001b[0m merger\u001b[38;5;241m.\u001b[39mwrite(merged_pdf_path)\n",
      "\u001b[0;31mNameError\u001b[0m: name 'pdf_files' is not defined"
     ]
    }
   ],
   "source": [
    "# PDFの結合\n",
    "merged_pdf_path = os.path.join(output_dir, \"Complete_Book.pdf\")\n",
    "merger = PdfMerger()\n",
    "for pdf_file in pdf_files:\n",
    "    merger.append(pdf_file)\n",
    "merger.write(merged_pdf_path)\n",
    "merger.close()\n",
    "print(f\"All chapters have been merged into {merged_pdf_path}\")"
   ]
  },
  {
   "cell_type": "code",
   "execution_count": null,
   "metadata": {},
   "outputs": [],
   "source": []
  },
  {
   "cell_type": "code",
   "execution_count": null,
   "metadata": {},
   "outputs": [],
   "source": []
  },
  {
   "cell_type": "code",
   "execution_count": null,
   "metadata": {},
   "outputs": [],
   "source": []
  },
  {
   "cell_type": "code",
   "execution_count": null,
   "metadata": {},
   "outputs": [],
   "source": []
  }
 ],
 "metadata": {
  "kernelspec": {
   "display_name": "Python 3",
   "language": "python",
   "name": "python3"
  },
  "language_info": {
   "codemirror_mode": {
    "name": "ipython",
    "version": 3
   },
   "file_extension": ".py",
   "mimetype": "text/x-python",
   "name": "python",
   "nbconvert_exporter": "python",
   "pygments_lexer": "ipython3",
   "version": "3.12.9"
  }
 },
 "nbformat": 4,
 "nbformat_minor": 2
}
